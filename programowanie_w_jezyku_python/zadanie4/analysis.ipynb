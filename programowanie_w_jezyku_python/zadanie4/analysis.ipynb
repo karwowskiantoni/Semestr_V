{
 "cells": [
  {
   "cell_type": "markdown",
   "source": [
    "# Programowanie w języku Python - zadanie 4\n",
    "Antoni Karwowski 229809\n",
    "Michał Gebel 229879"
   ],
   "metadata": {
    "collapsed": false
   }
  },
  {
   "cell_type": "code",
   "execution_count": 198,
   "outputs": [],
   "source": [
    "from itertools import combinations\n",
    "\n",
    "import matplotlib.pyplot as plt\n",
    "from pandas import read_csv, MultiIndex, DataFrame\n",
    "from seaborn import heatmap, regplot\n",
    "from tabulate import tabulate\n",
    "\n",
    "data = read_csv(\"data.csv\",\n",
    "                   header=None,\n",
    "                   names=[\"plec\", \"dlugosc\", \"srednica\", \"wysokosc\",\n",
    "                          \"masa_calkowita\", \"masa_po_wyjeciu\",\n",
    "                          \"masa_trzewi\", \"masa_muszli\", \"pierscienie\"])\n",
    "\n",
    "data_without_sexes = data.iloc[:, [1, 2, 3, 4, 5, 6, 7, 8]]\n",
    "def percent(number):\n",
    "    return round(number * 100, 2)\n",
    "\n",
    "def print_table(table):\n",
    "    print(tabulate(table, headers='keys', tablefmt='fancy_grid'))"
   ],
   "metadata": {
    "collapsed": false,
    "pycharm": {
     "name": "#%%\n"
    }
   }
  },
  {
   "cell_type": "markdown",
   "source": [
    "# Ocena dostateczna 1"
   ],
   "metadata": {
    "collapsed": false
   }
  },
  {
   "cell_type": "code",
   "source": [
    "print_table({'': data.groupby(\"plec\").groups,\n",
    " 'count': data.groupby(\"plec\").size(),\n",
    " '%': [percent(i / len(data)) for i in data.groupby('plec').size()]\n",
    " })"
   ],
   "metadata": {
    "collapsed": false,
    "pycharm": {
     "name": "#%%\n"
    }
   },
   "execution_count": 199,
   "outputs": [
    {
     "name": "stdout",
     "output_type": "stream",
     "text": [
      "╒════╤═════════╤═══════╕\n",
      "│    │   count │     % │\n",
      "╞════╪═════════╪═══════╡\n",
      "│ F  │    1307 │ 31.29 │\n",
      "├────┼─────────┼───────┤\n",
      "│ I  │    1342 │ 32.13 │\n",
      "├────┼─────────┼───────┤\n",
      "│ M  │    1528 │ 36.58 │\n",
      "╘════╧═════════╧═══════╛\n"
     ]
    }
   ]
  },
  {
   "cell_type": "markdown",
   "source": [
    "# Ocena dostateczna 2"
   ],
   "metadata": {
    "collapsed": false
   }
  },
  {
   "cell_type": "code",
   "execution_count": 200,
   "outputs": [
    {
     "name": "stdout",
     "output_type": "stream",
     "text": [
      "╒═════════════════╤══════════╤═══════════╤════════╤════════╤════════╤════════╤═════════╕\n",
      "│                 │     mean │       std │    min │    25% │    50% │    75% │     max │\n",
      "╞═════════════════╪══════════╪═══════════╪════════╪════════╪════════╪════════╪═════════╡\n",
      "│ dlugosc         │ 0.523992 │ 0.120093  │ 0.075  │ 0.45   │ 0.545  │  0.615 │  0.815  │\n",
      "├─────────────────┼──────────┼───────────┼────────┼────────┼────────┼────────┼─────────┤\n",
      "│ srednica        │ 0.407881 │ 0.0992399 │ 0.055  │ 0.35   │ 0.425  │  0.48  │  0.65   │\n",
      "├─────────────────┼──────────┼───────────┼────────┼────────┼────────┼────────┼─────────┤\n",
      "│ wysokosc        │ 0.139516 │ 0.0418271 │ 0      │ 0.115  │ 0.14   │  0.165 │  1.13   │\n",
      "├─────────────────┼──────────┼───────────┼────────┼────────┼────────┼────────┼─────────┤\n",
      "│ masa_calkowita  │ 0.828742 │ 0.490389  │ 0.002  │ 0.4415 │ 0.7995 │  1.153 │  2.8255 │\n",
      "├─────────────────┼──────────┼───────────┼────────┼────────┼────────┼────────┼─────────┤\n",
      "│ masa_po_wyjeciu │ 0.359367 │ 0.221963  │ 0.001  │ 0.186  │ 0.336  │  0.502 │  1.488  │\n",
      "├─────────────────┼──────────┼───────────┼────────┼────────┼────────┼────────┼─────────┤\n",
      "│ masa_trzewi     │ 0.180594 │ 0.109614  │ 0.0005 │ 0.0935 │ 0.171  │  0.253 │  0.76   │\n",
      "├─────────────────┼──────────┼───────────┼────────┼────────┼────────┼────────┼─────────┤\n",
      "│ masa_muszli     │ 0.238831 │ 0.139203  │ 0.0015 │ 0.13   │ 0.234  │  0.329 │  1.005  │\n",
      "├─────────────────┼──────────┼───────────┼────────┼────────┼────────┼────────┼─────────┤\n",
      "│ pierscienie     │ 9.93368  │ 3.22417   │ 1      │ 8      │ 9      │ 11     │ 29      │\n",
      "╘═════════════════╧══════════╧═══════════╧════════╧════════╧════════╧════════╧═════════╛\n"
     ]
    }
   ],
   "source": [
    "print_table(data_without_sexes.describe().drop(\"count\").transpose()) # xD top\n",
    "# print_table({\n",
    "#     '': data_without_sexes.columns,\n",
    "#     'mean': [data_without_sexes[column].mean() for column in data_without_sexes.columns],\n",
    "#     'std': [data_without_sexes[column].std() for column in data_without_sexes.columns],\n",
    "#     'min': [data_without_sexes[column].min() for column in data_without_sexes.columns],\n",
    "#     '25%': [data_without_sexes[column].quantile(0.25) for column in data_without_sexes.columns],\n",
    "#     '50%': [data_without_sexes[column].quantile(0.5) for column in data_without_sexes.columns],\n",
    "#     '75%': [data_without_sexes[column].quantile(0.75) for column in data_without_sexes.columns],\n",
    "#     'max': [data_without_sexes[column].max() for column in data_without_sexes.columns]\n",
    "#     })"
   ],
   "metadata": {
    "collapsed": false,
    "pycharm": {
     "name": "#%%\n"
    }
   }
  },
  {
   "cell_type": "markdown",
   "source": [
    "# Ocena dostateczna 3"
   ],
   "metadata": {
    "collapsed": false
   }
  },
  {
   "cell_type": "code",
   "execution_count": 201,
   "outputs": [
    {
     "data": {
      "text/plain": "<Figure size 432x288 with 1 Axes>",
      "image/png": "[encoded data removed]"
     },
     "metadata": {
      "needs_background": "light"
     },
     "output_type": "display_data"
    }
   ],
   "source": [
    "plt.bar([1, 2, 3], data.groupby(\"plec\").size())\n",
    "plt.xticks([1, 2, 3], data.groupby(\"plec\").groups)\n",
    "plt.show()"
   ],
   "metadata": {
    "collapsed": false,
    "pycharm": {
     "name": "#%%\n"
    }
   }
  },
  {
   "cell_type": "markdown",
   "source": [
    "# Ocena dostateczna 4"
   ],
   "metadata": {
    "collapsed": false
   }
  },
  {
   "cell_type": "code",
   "execution_count": 202,
   "outputs": [
    {
     "data": {
      "text/plain": "<Figure size 1080x720 with 8 Axes>",
      "image/png": "[encoded data removed]"
     },
     "metadata": {
      "needs_background": "light"
     },
     "output_type": "display_data"
    }
   ],
   "source": [
    "fig = plt.figure()\n",
    "fig.set_figheight(10)\n",
    "fig.set_figwidth(15)\n",
    "for column_name in data.iloc[:, [1, 2, 3, 4, 5, 6, 7, 8]]:\n",
    "    plot = fig.add_subplot(4, 2, data.columns.get_loc(column_name), title=column_name)\n",
    "    plot.hist(data[column_name], bins=20, edgecolor=\"black\")\n",
    "\n",
    "plt.tight_layout()\n",
    "plt.show()"
   ],
   "metadata": {
    "collapsed": false,
    "pycharm": {
     "name": "#%%\n"
    }
   }
  },
  {
   "cell_type": "markdown",
   "source": [
    "# Ocena dobra 2"
   ],
   "metadata": {
    "collapsed": false
   }
  },
  {
   "cell_type": "code",
   "execution_count": null,
   "outputs": [],
   "source": [
    "fig = plt.figure()\n",
    "fig.set_figheight(40)\n",
    "fig.set_figwidth(15)\n",
    "pairs = list(combinations(data.iloc[:, [1, 2, 3, 4, 5, 6, 7, 8]], 2))\n",
    "for i in range(len(pairs)):\n",
    "    plot = fig.add_subplot(14, 2, (i + 1), title=pairs[i][0] + \" \" + pairs[i][1])\n",
    "    plot.scatter(data[pairs[i][0]], data[pairs[i][1]], edgecolor=\"black\")\n",
    "    plot.set_xlabel(pairs[i][0])\n",
    "    plot.set_ylabel(pairs[i][1])\n",
    "\n",
    "plt.tight_layout()\n",
    "plt.show()"
   ],
   "metadata": {
    "collapsed": false,
    "pycharm": {
     "name": "#%%\n",
     "is_executing": true
    }
   }
  },
  {
   "cell_type": "markdown",
   "source": [
    "# Ocena dobra 3"
   ],
   "metadata": {
    "collapsed": false
   }
  },
  {
   "cell_type": "code",
   "execution_count": null,
   "outputs": [],
   "source": [
    "heatmap(data_without_sexes.corr())\n",
    "print_table(data_without_sexes.corr())"
   ],
   "metadata": {
    "collapsed": false,
    "pycharm": {
     "name": "#%%\n",
     "is_executing": true
    }
   }
  },
  {
   "cell_type": "markdown",
   "source": [
    "# Ocena dobra 4"
   ],
   "metadata": {
    "collapsed": false
   }
  },
  {
   "cell_type": "code",
   "execution_count": null,
   "outputs": [],
   "source": [
    "regplot(x=data.columns[1], y=data.columns[2],  data=data.iloc[:, [1, 2]], color='b', line_kws={'color': 'r'})\n",
    "print_table(data_without_sexes.corr())"
   ],
   "metadata": {
    "collapsed": false,
    "pycharm": {
     "name": "#%%\n",
     "is_executing": true
    }
   }
  },
  {
   "cell_type": "markdown",
   "source": [
    "# Ocena bardzo dobra 2"
   ],
   "metadata": {
    "collapsed": false
   }
  },
  {
   "cell_type": "code",
   "execution_count": null,
   "outputs": [],
   "source": [
    "data_set = data.groupby(\"plec\").describe().stack(0).drop(columns='count')\n",
    "additional_index = MultiIndex.from_product([data_without_sexes.columns, [\"F\", \"I\", \"M\"]], names=[\"cecha\", \"plec\"])\n",
    "data_set.index = additional_index\n",
    "print(data_set.round(3))"
   ],
   "metadata": {
    "collapsed": false,
    "pycharm": {
     "name": "#%%\n",
     "is_executing": true
    }
   }
  },
  {
   "cell_type": "markdown",
   "source": [
    "# Ocena bardzo dobra 3"
   ],
   "metadata": {
    "collapsed": false
   }
  },
  {
   "cell_type": "code",
   "execution_count": null,
   "outputs": [],
   "source": [
    "fig = plt.figure()\n",
    "fig.set_figheight(10)\n",
    "fig.set_figwidth(15)\n",
    "for column_name in data.iloc[:, [1, 2, 3, 4, 5, 6, 7, 8]]:\n",
    "    plot = fig.add_subplot(4, 2, data.columns.get_loc(column_name), title=column_name)\n",
    "    plot.boxplot(data[column_name])\n",
    "\n",
    "plt.tight_layout()\n",
    "plt.show()"
   ],
   "metadata": {
    "collapsed": false,
    "pycharm": {
     "name": "#%%\n",
     "is_executing": true
    }
   }
  }
 ],
 "metadata": {
  "kernelspec": {
   "name": "python3",
   "language": "python",
   "display_name": "Python 3 (ipykernel)"
  },
  "language_info": {
   "codemirror_mode": {
    "name": "ipython",
    "version": 2
   },
   "file_extension": ".py",
   "mimetype": "text/x-python",
   "name": "python",
   "nbconvert_exporter": "python",
   "pygments_lexer": "ipython2",
   "version": "2.7.6"
  }
 },
 "nbformat": 4,
 "nbformat_minor": 0
}