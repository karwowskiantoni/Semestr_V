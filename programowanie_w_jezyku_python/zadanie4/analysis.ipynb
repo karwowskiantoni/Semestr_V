{
 "cells": [
  {
   "cell_type": "code",
   "execution_count": 57,
   "metadata": {
    "collapsed": true,
    "pycharm": {
     "name": "#%%\n"
    }
   },
   "outputs": [
    {
     "name": "stdout",
     "output_type": "stream",
     "text": [
      "╒════════╤═════════╤══════╕\n",
      "│        │   count │    % │\n",
      "╞════════╪═════════╪══════╡\n",
      "│ Male   │    1528 │ 0.37 │\n",
      "├────────┼─────────┼──────┤\n",
      "│ Infant │    1342 │ 0.32 │\n",
      "├────────┼─────────┼──────┤\n",
      "│ Female │    1307 │ 0.31 │\n",
      "╘════════╧═════════╧══════╛\n",
      "╒════════════════╤══════════╤═══════════╤════════╤════════╤════════╤════════╤═════════╕\n",
      "│                │     mean │       std │    min │    25% │    50% │    75% │     max │\n",
      "╞════════════════╪══════════╪═══════════╪════════╪════════╪════════╪════════╪═════════╡\n",
      "│ Length         │ 0.523992 │ 0.120093  │ 0.075  │ 0.45   │ 0.545  │  0.615 │  0.815  │\n",
      "├────────────────┼──────────┼───────────┼────────┼────────┼────────┼────────┼─────────┤\n",
      "│ Diameter       │ 0.407881 │ 0.0992399 │ 0.055  │ 0.35   │ 0.425  │  0.48  │  0.65   │\n",
      "├────────────────┼──────────┼───────────┼────────┼────────┼────────┼────────┼─────────┤\n",
      "│ Height         │ 0.139516 │ 0.0418271 │ 0      │ 0.115  │ 0.14   │  0.165 │  1.13   │\n",
      "├────────────────┼──────────┼───────────┼────────┼────────┼────────┼────────┼─────────┤\n",
      "│ Whole weight   │ 0.828742 │ 0.490389  │ 0.002  │ 0.4415 │ 0.7995 │  1.153 │  1.488  │\n",
      "├────────────────┼──────────┼───────────┼────────┼────────┼────────┼────────┼─────────┤\n",
      "│ Shucked weight │ 0.359367 │ 0.221963  │ 0.001  │ 0.186  │ 0.336  │  0.502 │  2.8255 │\n",
      "├────────────────┼──────────┼───────────┼────────┼────────┼────────┼────────┼─────────┤\n",
      "│ Viscera weight │ 0.180594 │ 0.109614  │ 0.0005 │ 0.0935 │ 0.171  │  0.253 │  0.76   │\n",
      "├────────────────┼──────────┼───────────┼────────┼────────┼────────┼────────┼─────────┤\n",
      "│ Shell weight   │ 0.238831 │ 0.139203  │ 0.0015 │ 0.13   │ 0.234  │  0.329 │  1.005  │\n",
      "├────────────────┼──────────┼───────────┼────────┼────────┼────────┼────────┼─────────┤\n",
      "│ Rings          │ 9.93368  │ 3.22417   │ 1      │ 8      │ 9      │ 11     │ 29      │\n",
      "╘════════════════╧══════════╧═══════════╧════════╧════════╧════════╧════════╧═════════╛\n"
     ]
    }
   ],
   "source": [
    "import pandas as pd\n",
    "from tabulate import tabulate\n",
    "\n",
    "columns = [\"plec\", \"dlugosc\", \"srednica\", \"wysokosc\", \"masa_calkowita\", \"masa_po_wyjeciu\", \"masa_trzewi\",\n",
    "           \"masa_muszli\", \"pierscienie\"]\n",
    "data = pd.read_csv(\"data.csv\", header=None, names=columns)\n",
    "\n",
    "sexes_list = data[\"plec\"].values.tolist()\n",
    "sexes_values = [int(sexes_list.count(\"M\")), int(sexes_list.count(\"I\")), int(sexes_list.count(\"F\"))]\n",
    "all_sexes = sum(sexes_values)\n",
    "table_1 = {'': ['Male', 'Infant', 'Female'], 'count': sexes_values,\n",
    "           '%': [round(sexes_values[0] / all_sexes, 2), round(sexes_values[1] / all_sexes, 2),\n",
    "                 round(sexes_values[2] / all_sexes, 2)]}\n",
    "print(tabulate(table_1, headers='keys', tablefmt='fancy_grid'))\n",
    "means = [data[\"dlugosc\"].mean(), data[\"srednica\"].mean(), data[\"wysokosc\"].mean(), data[\"masa_calkowita\"].mean(),\n",
    "         data[\"masa_po_wyjeciu\"].mean(),\n",
    "         data[\"masa_trzewi\"].mean(), data[\"masa_muszli\"].mean(), data[\"pierscienie\"].mean()]\n",
    "std = [data[\"dlugosc\"].std(), data[\"srednica\"].std(), data[\"wysokosc\"].std(), data[\"masa_calkowita\"].std(),\n",
    "       data[\"masa_po_wyjeciu\"].std(),\n",
    "       data[\"masa_trzewi\"].std(), data[\"masa_muszli\"].std(), data[\"pierscienie\"].std()]\n",
    "minimum = [data[\"dlugosc\"].min(), data[\"srednica\"].min(), data[\"wysokosc\"].min(), data[\"masa_calkowita\"].min(),\n",
    "           data[\"masa_po_wyjeciu\"].min(),\n",
    "           data[\"masa_trzewi\"].min(), data[\"masa_muszli\"].min(), data[\"pierscienie\"].min()]\n",
    "quantile_1 = [data[\"dlugosc\"].quantile(0.25), data[\"srednica\"].quantile(0.25), data[\"wysokosc\"].quantile(0.25),\n",
    "              data[\"masa_calkowita\"].quantile(0.25),\n",
    "              data[\"masa_po_wyjeciu\"].quantile(0.25), data[\"masa_trzewi\"].quantile(0.25),\n",
    "              data[\"masa_muszli\"].quantile(0.25), data[\"pierscienie\"].quantile(0.25)]\n",
    "quantile_2 = [data[\"dlugosc\"].quantile(0.5), data[\"srednica\"].quantile(0.5), data[\"wysokosc\"].quantile(0.5),\n",
    "              data[\"masa_calkowita\"].quantile(0.5),\n",
    "              data[\"masa_po_wyjeciu\"].quantile(0.5), data[\"masa_trzewi\"].quantile(0.5),\n",
    "              data[\"masa_muszli\"].quantile(0.5), data[\"pierscienie\"].quantile(0.5)]\n",
    "quantile_3 = [data[\"dlugosc\"].quantile(0.75), data[\"srednica\"].quantile(0.75), data[\"wysokosc\"].quantile(0.75),\n",
    "              data[\"masa_calkowita\"].quantile(0.75),\n",
    "              data[\"masa_po_wyjeciu\"].quantile(0.75), data[\"masa_trzewi\"].quantile(0.75),\n",
    "              data[\"masa_muszli\"].quantile(0.75), data[\"pierscienie\"].quantile(0.75)]\n",
    "maximum = [data[\"dlugosc\"].max(), data[\"srednica\"].max(), data[\"wysokosc\"].max(), data[\"masa_po_wyjeciu\"].max(),\n",
    "           data[\"masa_calkowita\"].max(),\n",
    "           data[\"masa_trzewi\"].max(), data[\"masa_muszli\"].max(), data[\"pierscienie\"].max()]\n",
    "\n",
    "table_2 = {\n",
    "    '': ['Length', 'Diameter', 'Height', 'Whole weight', 'Shucked weight', 'Viscera weight', 'Shell weight', 'Rings'],\n",
    "    'mean': means, 'std': std, 'min': minimum, '25%': quantile_1, '50%': quantile_2, '75%': quantile_3, 'max': maximum}\n",
    "print(tabulate(table_2, headers='keys', tablefmt='fancy_grid'))\n"
   ]
  }
 ],
 "metadata": {
  "kernelspec": {
   "display_name": "Python 3",
   "language": "python",
   "name": "python3"
  },
  "language_info": {
   "codemirror_mode": {
    "name": "ipython",
    "version": 2
   },
   "file_extension": ".py",
   "mimetype": "text/x-python",
   "name": "python",
   "nbconvert_exporter": "python",
   "pygments_lexer": "ipython2",
   "version": "2.7.6"
  }
 },
 "nbformat": 4,
 "nbformat_minor": 0
}